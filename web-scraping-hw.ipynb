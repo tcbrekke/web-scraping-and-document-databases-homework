{
 "cells": [
  {
   "cell_type": "code",
   "execution_count": 2,
   "metadata": {},
   "outputs": [],
   "source": [
    "from splinter import Browser\n",
    "from bs4 import BeautifulSoup\n",
    "import pandas as pd\n",
    "import time "
   ]
  },
  {
   "cell_type": "code",
   "execution_count": 3,
   "metadata": {},
   "outputs": [
    {
     "name": "stdout",
     "output_type": "stream",
     "text": [
      "/usr/local/bin/chromedriver\r\n"
     ]
    }
   ],
   "source": [
    "!which chromedriver"
   ]
  },
  {
   "cell_type": "code",
   "execution_count": 4,
   "metadata": {},
   "outputs": [],
   "source": [
    "executable_path = {'executable_path': '/usr/local/bin/chromedriver'}\n",
    "browser = Browser('chrome', **executable_path, headless=False)"
   ]
  },
  {
   "cell_type": "code",
   "execution_count": 5,
   "metadata": {},
   "outputs": [
    {
     "name": "stdout",
     "output_type": "stream",
     "text": [
      "https://www.jpl.nasa.gov/spaceimages/images/largesize/PIA17832_hires.jpg\n"
     ]
    }
   ],
   "source": [
    "#Scrape NASA featured Mars image\n",
    "\n",
    "nasa_image_url = 'https://www.jpl.nasa.gov/spaceimages/?search=&category=Mars'\n",
    "browser.visit(nasa_image_url)\n",
    "\n",
    "html = browser.html\n",
    "soup = BeautifulSoup(html, 'html.parser')\n",
    "\n",
    "browser.click_link_by_id('full_image')\n",
    "time.sleep(1)\n",
    "browser.click_link_by_partial_text('more info')\n",
    "time.sleep(1)\n",
    "browser.click_link_by_partial_href('/spaceimages/images/largesize')\n",
    "\n",
    "featured_image_url = browser.url\n",
    "print(featured_image_url)"
   ]
  },
  {
   "cell_type": "code",
   "execution_count": 6,
   "metadata": {},
   "outputs": [
    {
     "name": "stdout",
     "output_type": "stream",
     "text": [
      "Three views of #ISS pass tonight as seen from The Hague, NL. 7 x 0.2 ms unfiltered mono in Celestron 8\" at f/10.pic.twitter.com/5PvF1ECjjf\n"
     ]
    }
   ],
   "source": [
    "#Scrape Mars weather\n",
    "mars_weather_url = 'https://twitter.com/marswxreport?lang=en'\n",
    "browser.visit(mars_weather_url)\n",
    "\n",
    "html = browser.html\n",
    "soup = BeautifulSoup(html, 'html.parser')\n",
    "\n",
    "time.sleep(1)\n",
    "mars_weather = soup.find('p', class_='js-tweet-text').text\n",
    "\n",
    "print(mars_weather)\n",
    "\n",
    "\n",
    "# Tweet-class: js-stream-item stream-item stream-item\n"
   ]
  },
  {
   "cell_type": "code",
   "execution_count": 11,
   "metadata": {},
   "outputs": [
    {
     "name": "stdout",
     "output_type": "stream",
     "text": [
      "<table border=\"1\" class=\"dataframe\">\n",
      "  <thead>\n",
      "    <tr style=\"text-align: right;\">\n",
      "      <th></th>\n",
      "      <th>0</th>\n",
      "      <th>1</th>\n",
      "    </tr>\n",
      "  </thead>\n",
      "  <tbody>\n",
      "    <tr>\n",
      "      <th>0</th>\n",
      "      <td>Equatorial Diameter:</td>\n",
      "      <td>6,792 km</td>\n",
      "    </tr>\n",
      "    <tr>\n",
      "      <th>1</th>\n",
      "      <td>Polar Diameter:</td>\n",
      "      <td>6,752 km</td>\n",
      "    </tr>\n",
      "    <tr>\n",
      "      <th>2</th>\n",
      "      <td>Mass:</td>\n",
      "      <td>6.42 x 10^23 kg (10.7% Earth)</td>\n",
      "    </tr>\n",
      "    <tr>\n",
      "      <th>3</th>\n",
      "      <td>Moons:</td>\n",
      "      <td>2 (Phobos &amp; Deimos)</td>\n",
      "    </tr>\n",
      "    <tr>\n",
      "      <th>4</th>\n",
      "      <td>Orbit Distance:</td>\n",
      "      <td>227,943,824 km (1.52 AU)</td>\n",
      "    </tr>\n",
      "    <tr>\n",
      "      <th>5</th>\n",
      "      <td>Orbit Period:</td>\n",
      "      <td>687 days (1.9 years)</td>\n",
      "    </tr>\n",
      "    <tr>\n",
      "      <th>6</th>\n",
      "      <td>Surface Temperature:</td>\n",
      "      <td>-153 to 20 °C</td>\n",
      "    </tr>\n",
      "    <tr>\n",
      "      <th>7</th>\n",
      "      <td>First Record:</td>\n",
      "      <td>2nd millennium BC</td>\n",
      "    </tr>\n",
      "    <tr>\n",
      "      <th>8</th>\n",
      "      <td>Recorded By:</td>\n",
      "      <td>Egyptian astronomers</td>\n",
      "    </tr>\n",
      "  </tbody>\n",
      "</table>\n"
     ]
    }
   ],
   "source": [
    "#Scrape facts table\n",
    "\n",
    "mars_facts_url = 'https://space-facts.com/mars/#facts'\n",
    "browser.visit(mars_facts_url)\n",
    "\n",
    "html = browser.html\n",
    "soup = BeautifulSoup(html, 'html.parser')\n",
    "\n",
    "facts_table_scrape = soup.find('table', class_='tablepress-id-mars')\n",
    "\n",
    "facts_df = pd.read_html(str(facts_table_scrape))[0]\n",
    "facts_conversion_table = facts_df.to_html()\n",
    "\n",
    "print(facts_conversion_table)"
   ]
  },
  {
   "cell_type": "code",
   "execution_count": 8,
   "metadata": {},
   "outputs": [],
   "source": [
    "#Scrape images - the large ones - I'm really not sure why we want giant TIFFs, but the client is always right! (Yeah but I grabbed the JPEGs too anyway because I am not sure the client is really 100% right in this case. They can have their TIFF URLs but to save myself the time of making updates later I'm going to also add some JPEGs to the dictionary. Just in case.)\n",
    "html = browser.html\n",
    "soup = BeautifulSoup(html, 'html.parser')\n",
    "\n",
    "hemispheres_images_home_url = 'https://astrogeology.usgs.gov/search/results?q=hemisphere+enhanced&k1=target&v1=Mars'\n",
    "browser.visit(hemispheres_images_home_url)\n",
    "\n",
    "hemisphere_links = soup.find_all('a', class_='product-item')\n",
    "\n",
    "all_links = []\n",
    "hemi_list = []\n",
    "hemi_title_list = []\n",
    "hemi_tiff_list = []\n",
    "hemi_jepg_list = []\n",
    "\n",
    "for link in set(hemisphere_links):\n",
    "    current_link = link.get('href')\n",
    "    all_links.append(current_link)\n",
    "    \n",
    "unique_links = list(set(all_links))\n",
    "\n",
    "for i in range(len(unique_links)):\n",
    "    hemi_dict = {}\n",
    "    browser.visit((f'https://astrogeology.usgs.gov{unique_links[i]}'))\n",
    "    print(f'https://astrogeology.usgs.gov{unique_links[i]}')\n",
    "    time.sleep(2)\n",
    "    hemi_title_raw = browser.find_by_css('h2.title').text\n",
    "    hemi_title_final = hemi_title_raw.replace(' Enhanced', '')\n",
    "    tiff_url = browser.find_link_by_text('Original')['href']\n",
    "    jpeg_url = browser.find_link_by_text('Sample')['href']\n",
    "    hemi_dict['title'] = hemi_title_final\n",
    "    hemi_dict['tiff_url'] = tiff_url\n",
    "    hemi_dict['img_url'] = jpeg_url\n",
    "    print(hemi_dict)\n",
    "    hemi_list.append(hemi_dict)\n",
    "    \n"
   ]
  },
  {
   "cell_type": "code",
   "execution_count": null,
   "metadata": {},
   "outputs": [],
   "source": []
  },
  {
   "cell_type": "code",
   "execution_count": null,
   "metadata": {},
   "outputs": [],
   "source": []
  }
 ],
 "metadata": {
  "kernelspec": {
   "display_name": "Python 3",
   "language": "python",
   "name": "python3"
  },
  "language_info": {
   "codemirror_mode": {
    "name": "ipython",
    "version": 3
   },
   "file_extension": ".py",
   "mimetype": "text/x-python",
   "name": "python",
   "nbconvert_exporter": "python",
   "pygments_lexer": "ipython3",
   "version": "3.6.4"
  }
 },
 "nbformat": 4,
 "nbformat_minor": 2
}
